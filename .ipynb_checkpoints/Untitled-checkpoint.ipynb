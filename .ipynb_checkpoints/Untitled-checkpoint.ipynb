{
 "cells": [
  {
   "cell_type": "code",
   "execution_count": 1,
   "id": "dcc8d1ed",
   "metadata": {},
   "outputs": [],
   "source": [
    "X=3"
   ]
  },
  {
   "cell_type": "code",
   "execution_count": 3,
   "id": "563f020e",
   "metadata": {},
   "outputs": [
    {
     "data": {
      "text/plain": [
       "3"
      ]
     },
     "execution_count": 3,
     "metadata": {},
     "output_type": "execute_result"
    }
   ],
   "source": [
    "X"
   ]
  },
  {
   "cell_type": "code",
   "execution_count": 4,
   "id": "d0d1f3cc",
   "metadata": {},
   "outputs": [],
   "source": [
    "y = 10"
   ]
  },
  {
   "cell_type": "code",
   "execution_count": 5,
   "id": "17f2ef58",
   "metadata": {},
   "outputs": [
    {
     "data": {
      "text/plain": [
       "10"
      ]
     },
     "execution_count": 5,
     "metadata": {},
     "output_type": "execute_result"
    }
   ],
   "source": [
    "y"
   ]
  },
  {
   "cell_type": "code",
   "execution_count": 7,
   "id": "add764c6",
   "metadata": {},
   "outputs": [],
   "source": [
    "a,b=5,6"
   ]
  },
  {
   "cell_type": "code",
   "execution_count": 8,
   "id": "876988ff",
   "metadata": {},
   "outputs": [
    {
     "data": {
      "text/plain": [
       "5"
      ]
     },
     "execution_count": 8,
     "metadata": {},
     "output_type": "execute_result"
    }
   ],
   "source": [
    "a"
   ]
  },
  {
   "cell_type": "code",
   "execution_count": 9,
   "id": "bd4a9d11",
   "metadata": {},
   "outputs": [],
   "source": [
    "y = 9.8"
   ]
  },
  {
   "cell_type": "code",
   "execution_count": 10,
   "id": "d03bdc29",
   "metadata": {},
   "outputs": [
    {
     "data": {
      "text/plain": [
       "float"
      ]
     },
     "execution_count": 10,
     "metadata": {},
     "output_type": "execute_result"
    }
   ],
   "source": [
    "type(y)"
   ]
  },
  {
   "cell_type": "code",
   "execution_count": 12,
   "id": "d6e3c2fb",
   "metadata": {},
   "outputs": [
    {
     "data": {
      "text/plain": [
       "3.0"
      ]
     },
     "execution_count": 12,
     "metadata": {},
     "output_type": "execute_result"
    }
   ],
   "source": [
    "float(X)"
   ]
  },
  {
   "cell_type": "code",
   "execution_count": 13,
   "id": "daeab635",
   "metadata": {},
   "outputs": [],
   "source": [
    "c = True"
   ]
  },
  {
   "cell_type": "code",
   "execution_count": 14,
   "id": "c1f7bef7",
   "metadata": {},
   "outputs": [
    {
     "data": {
      "text/plain": [
       "bool"
      ]
     },
     "execution_count": 14,
     "metadata": {},
     "output_type": "execute_result"
    }
   ],
   "source": [
    "type(c)"
   ]
  },
  {
   "cell_type": "code",
   "execution_count": 15,
   "id": "079aa9e3",
   "metadata": {},
   "outputs": [],
   "source": [
    "d = \"Dania\""
   ]
  },
  {
   "cell_type": "code",
   "execution_count": 16,
   "id": "cf046293",
   "metadata": {},
   "outputs": [
    {
     "data": {
      "text/plain": [
       "str"
      ]
     },
     "execution_count": 16,
     "metadata": {},
     "output_type": "execute_result"
    }
   ],
   "source": [
    "type(d)"
   ]
  },
  {
   "cell_type": "code",
   "execution_count": 17,
   "id": "17d08698",
   "metadata": {},
   "outputs": [
    {
     "name": "stdout",
     "output_type": "stream",
     "text": [
      "Dania\n"
     ]
    }
   ],
   "source": [
    "print(d)"
   ]
  },
  {
   "cell_type": "code",
   "execution_count": 19,
   "id": "9ee971fc",
   "metadata": {},
   "outputs": [],
   "source": [
    "def costo_energia(kwh):\n",
    "    costo_e = kwh * 0.25\n",
    "    return costo_e\n",
    "\n",
    "def mas_alcadia(kwh):\n",
    "    costo_masalcaldia = costo_energia(kwh) + 10\n",
    "    return costo_masalcaldia"
   ]
  },
  {
   "cell_type": "code",
   "execution_count": 20,
   "id": "741f9d75",
   "metadata": {},
   "outputs": [
    {
     "data": {
      "text/plain": [
       "25.0"
      ]
     },
     "execution_count": 20,
     "metadata": {},
     "output_type": "execute_result"
    }
   ],
   "source": [
    "costo_energia(100)"
   ]
  },
  {
   "cell_type": "code",
   "execution_count": 21,
   "id": "eed7bdcc",
   "metadata": {},
   "outputs": [
    {
     "data": {
      "text/plain": [
       "35.0"
      ]
     },
     "execution_count": 21,
     "metadata": {},
     "output_type": "execute_result"
    }
   ],
   "source": [
    "mas_alcadia(100)"
   ]
  },
  {
   "cell_type": "code",
   "execution_count": 23,
   "id": "95d62342",
   "metadata": {},
   "outputs": [],
   "source": [
    "def saldo_masuno(saldo):\n",
    "    if saldo > 0:\n",
    "        saldo=saldo+1\n",
    "        return saldo\n",
    "    else:\n",
    "        return \"saldo 0\""
   ]
  },
  {
   "cell_type": "code",
   "execution_count": 24,
   "id": "80f88a45",
   "metadata": {},
   "outputs": [
    {
     "data": {
      "text/plain": [
       "11"
      ]
     },
     "execution_count": 24,
     "metadata": {},
     "output_type": "execute_result"
    }
   ],
   "source": [
    "saldo_masuno(10)"
   ]
  },
  {
   "cell_type": "code",
   "execution_count": 26,
   "id": "7efc464f",
   "metadata": {},
   "outputs": [],
   "source": [
    "def caida_libre(inicial, vel_inicial, tiempo):\n",
    "    posicion_final=inicial-vel_inicial*tiempo -0.5*9.8*(tiempo**2)\n",
    "    print (posicion_final)"
   ]
  },
  {
   "cell_type": "code",
   "execution_count": 27,
   "id": "75447740",
   "metadata": {},
   "outputs": [
    {
     "name": "stdout",
     "output_type": "stream",
     "text": [
      "627.5\n"
     ]
    }
   ],
   "source": [
    "caida_libre(1000,50,5)"
   ]
  },
  {
   "cell_type": "code",
   "execution_count": 28,
   "id": "7c321b88",
   "metadata": {},
   "outputs": [],
   "source": [
    "z=(1,2,3)"
   ]
  },
  {
   "cell_type": "code",
   "execution_count": 29,
   "id": "058c6382",
   "metadata": {},
   "outputs": [
    {
     "data": {
      "text/plain": [
       "3"
      ]
     },
     "execution_count": 29,
     "metadata": {},
     "output_type": "execute_result"
    }
   ],
   "source": [
    "max(z)"
   ]
  },
  {
   "cell_type": "code",
   "execution_count": 31,
   "id": "52fa5950",
   "metadata": {},
   "outputs": [
    {
     "data": {
      "text/plain": [
       "1"
      ]
     },
     "execution_count": 31,
     "metadata": {},
     "output_type": "execute_result"
    }
   ],
   "source": [
    "min(z)"
   ]
  },
  {
   "cell_type": "markdown",
   "id": "a7e9c003",
   "metadata": {},
   "source": [
    "sum(z)"
   ]
  },
  {
   "cell_type": "code",
   "execution_count": 32,
   "id": "7b4217fb",
   "metadata": {},
   "outputs": [
    {
     "data": {
      "text/plain": [
       "6"
      ]
     },
     "execution_count": 32,
     "metadata": {},
     "output_type": "execute_result"
    }
   ],
   "source": [
    "sum(z)"
   ]
  },
  {
   "cell_type": "code",
   "execution_count": 33,
   "id": "f5b4a9d3",
   "metadata": {},
   "outputs": [
    {
     "data": {
      "text/plain": [
       "9"
      ]
     },
     "execution_count": 33,
     "metadata": {},
     "output_type": "execute_result"
    }
   ],
   "source": [
    "y=-9\n",
    "abs(y)"
   ]
  },
  {
   "cell_type": "code",
   "execution_count": 34,
   "id": "65f96e71",
   "metadata": {},
   "outputs": [
    {
     "data": {
      "text/plain": [
       "27"
      ]
     },
     "execution_count": 34,
     "metadata": {},
     "output_type": "execute_result"
    }
   ],
   "source": [
    "pow(3,3)"
   ]
  },
  {
   "cell_type": "code",
   "execution_count": 35,
   "id": "b4942531",
   "metadata": {},
   "outputs": [
    {
     "name": "stdout",
     "output_type": "stream",
     "text": [
      "B\n",
      "C\n"
     ]
    }
   ],
   "source": [
    "lista=[\"A\",\"B\",\"C\", \"D\"]\n",
    "print(lista[1])\n",
    "print(lista[-2])\n"
   ]
  },
  {
   "cell_type": "code",
   "execution_count": 36,
   "id": "d09f55b4",
   "metadata": {},
   "outputs": [],
   "source": [
    "del lista[1]"
   ]
  },
  {
   "cell_type": "code",
   "execution_count": 37,
   "id": "83f3ca9e",
   "metadata": {},
   "outputs": [
    {
     "data": {
      "text/plain": [
       "['A', 'C', 'D']"
      ]
     },
     "execution_count": 37,
     "metadata": {},
     "output_type": "execute_result"
    }
   ],
   "source": [
    "lista"
   ]
  },
  {
   "cell_type": "code",
   "execution_count": 38,
   "id": "23e2b88d",
   "metadata": {},
   "outputs": [],
   "source": [
    "lista.append(\"E\")"
   ]
  },
  {
   "cell_type": "code",
   "execution_count": 40,
   "id": "8c0a7a83",
   "metadata": {},
   "outputs": [
    {
     "data": {
      "text/plain": [
       "['A', 'C', 'D', 'E']"
      ]
     },
     "execution_count": 40,
     "metadata": {},
     "output_type": "execute_result"
    }
   ],
   "source": [
    "lista"
   ]
  },
  {
   "cell_type": "code",
   "execution_count": 41,
   "id": "bddf661a",
   "metadata": {},
   "outputs": [
    {
     "data": {
      "text/plain": [
       "['A', 'C', 'D', 'E', 'f', 'g']"
      ]
     },
     "execution_count": 41,
     "metadata": {},
     "output_type": "execute_result"
    }
   ],
   "source": [
    "lista.extend([\"f\", \"g\"])\n",
    "lista"
   ]
  },
  {
   "cell_type": "code",
   "execution_count": 42,
   "id": "3d01fc0f",
   "metadata": {},
   "outputs": [
    {
     "data": {
      "text/plain": [
       "['C', 'D']"
      ]
     },
     "execution_count": 42,
     "metadata": {},
     "output_type": "execute_result"
    }
   ],
   "source": [
    "lista[1:3]"
   ]
  },
  {
   "cell_type": "code",
   "execution_count": 43,
   "id": "e5b6a271",
   "metadata": {},
   "outputs": [
    {
     "data": {
      "text/plain": [
       "['A', 'C']"
      ]
     },
     "execution_count": 43,
     "metadata": {},
     "output_type": "execute_result"
    }
   ],
   "source": [
    "lista[:2]"
   ]
  },
  {
   "cell_type": "code",
   "execution_count": 48,
   "id": "0849bd95",
   "metadata": {},
   "outputs": [
    {
     "data": {
      "text/plain": [
       "['f', 'g']"
      ]
     },
     "execution_count": 48,
     "metadata": {},
     "output_type": "execute_result"
    }
   ],
   "source": [
    "lista[-2:]"
   ]
  },
  {
   "cell_type": "code",
   "execution_count": 49,
   "id": "0ae8b573",
   "metadata": {},
   "outputs": [
    {
     "data": {
      "text/plain": [
       "2"
      ]
     },
     "execution_count": 49,
     "metadata": {},
     "output_type": "execute_result"
    }
   ],
   "source": [
    "lista.index(\"D\")"
   ]
  },
  {
   "cell_type": "code",
   "execution_count": 50,
   "id": "96c9fd0d",
   "metadata": {},
   "outputs": [],
   "source": [
    "lista.sort()"
   ]
  },
  {
   "cell_type": "code",
   "execution_count": 51,
   "id": "906ebb04",
   "metadata": {},
   "outputs": [
    {
     "data": {
      "text/plain": [
       "['A', 'C', 'D', 'E', 'f', 'g']"
      ]
     },
     "execution_count": 51,
     "metadata": {},
     "output_type": "execute_result"
    }
   ],
   "source": [
    "lista"
   ]
  },
  {
   "cell_type": "code",
   "execution_count": 52,
   "id": "fcd48d6f",
   "metadata": {},
   "outputs": [
    {
     "data": {
      "text/plain": [
       "['g', 'f', 'E', 'D', 'C', 'A']"
      ]
     },
     "execution_count": 52,
     "metadata": {},
     "output_type": "execute_result"
    }
   ],
   "source": [
    "lista.sort(reverse=True)\n",
    "lista"
   ]
  },
  {
   "cell_type": "code",
   "execution_count": 53,
   "id": "8e5f0150",
   "metadata": {},
   "outputs": [],
   "source": [
    "numeros=[54,78,12,6,45,21]"
   ]
  },
  {
   "cell_type": "code",
   "execution_count": 55,
   "id": "63de0b74",
   "metadata": {},
   "outputs": [
    {
     "data": {
      "text/plain": [
       "[6, 12, 21, 45, 54, 78]"
      ]
     },
     "execution_count": 55,
     "metadata": {},
     "output_type": "execute_result"
    }
   ],
   "source": [
    "numeros.sort()\n",
    "numeros"
   ]
  },
  {
   "cell_type": "code",
   "execution_count": 56,
   "id": "fbd1fcbc",
   "metadata": {},
   "outputs": [
    {
     "data": {
      "text/plain": [
       "(56, 84, 95)"
      ]
     },
     "execution_count": 56,
     "metadata": {},
     "output_type": "execute_result"
    }
   ],
   "source": [
    "#TUPLAS\n",
    "x=(1,2,3)\n",
    "y=56,84,95\n",
    "x\n",
    "y"
   ]
  },
  {
   "cell_type": "code",
   "execution_count": 57,
   "id": "b709da74",
   "metadata": {},
   "outputs": [
    {
     "data": {
      "text/plain": [
       "(1, 2, 3)"
      ]
     },
     "execution_count": 57,
     "metadata": {},
     "output_type": "execute_result"
    }
   ],
   "source": [
    "x"
   ]
  },
  {
   "cell_type": "code",
   "execution_count": 58,
   "id": "12b688c4",
   "metadata": {},
   "outputs": [
    {
     "data": {
      "text/plain": [
       "2"
      ]
     },
     "execution_count": 58,
     "metadata": {},
     "output_type": "execute_result"
    }
   ],
   "source": [
    "x[1]"
   ]
  },
  {
   "cell_type": "code",
   "execution_count": 59,
   "id": "76dcca91",
   "metadata": {},
   "outputs": [
    {
     "data": {
      "text/plain": [
       "[(1, 2, 3), (56, 84, 95)]"
      ]
     },
     "execution_count": 59,
     "metadata": {},
     "output_type": "execute_result"
    }
   ],
   "source": [
    "lista1=[x,y]\n",
    "lista1"
   ]
  },
  {
   "cell_type": "code",
   "execution_count": 60,
   "id": "fbc4a7f0",
   "metadata": {},
   "outputs": [
    {
     "data": {
      "text/plain": [
       "'45'"
      ]
     },
     "execution_count": 60,
     "metadata": {},
     "output_type": "execute_result"
    }
   ],
   "source": [
    "(edad, peso)=\"45,189.5\".split(\",\")\n",
    "edad"
   ]
  },
  {
   "cell_type": "code",
   "execution_count": 1,
   "id": "919a1f7d",
   "metadata": {},
   "outputs": [
    {
     "data": {
      "text/plain": [
       "{'k1': 'bmw', 'k2': 'nissan', 'k3': 'toyota'}"
      ]
     },
     "execution_count": 1,
     "metadata": {},
     "output_type": "execute_result"
    }
   ],
   "source": [
    "#DICCIONARIOS\n",
    "vehiculos = {'k1':'bmw', 'k2':'nissan', 'k3':'toyota'}\n",
    "vehiculos"
   ]
  },
  {
   "cell_type": "code",
   "execution_count": 2,
   "id": "7661855f",
   "metadata": {},
   "outputs": [
    {
     "data": {
      "text/plain": [
       "'nissan'"
      ]
     },
     "execution_count": 2,
     "metadata": {},
     "output_type": "execute_result"
    }
   ],
   "source": [
    "vehiculos['k2']"
   ]
  },
  {
   "cell_type": "code",
   "execution_count": 3,
   "id": "1c183eb7",
   "metadata": {},
   "outputs": [
    {
     "data": {
      "text/plain": [
       "{'k1': 'bmw', 'k2': 'nissan', 'k3': 'toyota', 'k4': 'peugeot'}"
      ]
     },
     "execution_count": 3,
     "metadata": {},
     "output_type": "execute_result"
    }
   ],
   "source": [
    "vehiculos['k4']='peugeot'\n",
    "vehiculos"
   ]
  },
  {
   "cell_type": "code",
   "execution_count": 4,
   "id": "27b0f74a",
   "metadata": {},
   "outputs": [
    {
     "data": {
      "text/plain": [
       "{'diseño': 'julio', 'desarrollo': ['antonio', 'pedro']}"
      ]
     },
     "execution_count": 4,
     "metadata": {},
     "output_type": "execute_result"
    }
   ],
   "source": [
    "colaboradores={'diseño':'julio', 'desarrollo': ['antonio', 'pedro']}\n",
    "colaboradores"
   ]
  },
  {
   "cell_type": "code",
   "execution_count": 5,
   "id": "f0979994",
   "metadata": {},
   "outputs": [
    {
     "name": "stdout",
     "output_type": "stream",
     "text": [
      "julio\n"
     ]
    }
   ],
   "source": [
    "print(colaboradores.get('diseño'))"
   ]
  },
  {
   "cell_type": "code",
   "execution_count": 6,
   "id": "adba540e",
   "metadata": {},
   "outputs": [
    {
     "data": {
      "text/plain": [
       "[5, 10, 15, 20, 25, 30]"
      ]
     },
     "execution_count": 6,
     "metadata": {},
     "output_type": "execute_result"
    }
   ],
   "source": [
    "#FOR\n",
    "multiploscinco=[5,10,15,20,25,30]\n",
    "multiploscinco"
   ]
  },
  {
   "cell_type": "code",
   "execution_count": 8,
   "id": "be0255f4",
   "metadata": {},
   "outputs": [
    {
     "name": "stdout",
     "output_type": "stream",
     "text": [
      "6\n",
      "11\n",
      "16\n",
      "21\n",
      "26\n",
      "31\n"
     ]
    }
   ],
   "source": [
    "for n in multiploscinco:\n",
    "    print (n+1)"
   ]
  },
  {
   "cell_type": "code",
   "execution_count": 11,
   "id": "ce0ab4c6",
   "metadata": {},
   "outputs": [
    {
     "name": "stdout",
     "output_type": "stream",
     "text": [
      "1\n",
      "2\n",
      "3\n",
      "4\n",
      "5\n",
      "6\n"
     ]
    }
   ],
   "source": [
    "#WHILE\n",
    "x=0\n",
    "while x<=5:\n",
    "    x=x+1\n",
    "    print(x)"
   ]
  },
  {
   "cell_type": "code",
   "execution_count": 12,
   "id": "06637bfe",
   "metadata": {},
   "outputs": [
    {
     "data": {
      "text/plain": [
       "range(0, 20)"
      ]
     },
     "execution_count": 12,
     "metadata": {},
     "output_type": "execute_result"
    }
   ],
   "source": [
    "#RANGE\n",
    "range(20)"
   ]
  },
  {
   "cell_type": "code",
   "execution_count": 13,
   "id": "4ecd6fa8",
   "metadata": {},
   "outputs": [
    {
     "data": {
      "text/plain": [
       "[0, 1, 2, 3, 4, 5, 6, 7, 8, 9, 10, 11, 12, 13, 14, 15, 16, 17, 18, 19]"
      ]
     },
     "execution_count": 13,
     "metadata": {},
     "output_type": "execute_result"
    }
   ],
   "source": [
    "list(range(20))"
   ]
  },
  {
   "cell_type": "code",
   "execution_count": 14,
   "id": "1a534818",
   "metadata": {},
   "outputs": [
    {
     "data": {
      "text/plain": [
       "[0, 1, 2, 3, 4, 5, 6, 7, 8, 9, 10, 11, 12, 13, 14, 15, 16, 17, 18, 19]"
      ]
     },
     "execution_count": 14,
     "metadata": {},
     "output_type": "execute_result"
    }
   ],
   "source": [
    "list(range(0,20,1))"
   ]
  },
  {
   "cell_type": "code",
   "execution_count": 15,
   "id": "8fd3a2ea",
   "metadata": {},
   "outputs": [
    {
     "name": "stdout",
     "output_type": "stream",
     "text": [
      "2\n",
      "4\n",
      "6\n",
      "8\n",
      "10\n",
      "12\n",
      "14\n",
      "16\n",
      "18\n",
      "20\n"
     ]
    }
   ],
   "source": [
    "for n in range(1,11):\n",
    "    print(2*n)"
   ]
  },
  {
   "cell_type": "code",
   "execution_count": 17,
   "id": "c72655f3",
   "metadata": {},
   "outputs": [
    {
     "name": "stdout",
     "output_type": "stream",
     "text": [
      "1 es impar\n",
      "2 es par\n",
      "3 es impar\n",
      "4 es par\n",
      "5 es impar\n",
      "6 es par\n",
      "7 es impar\n",
      "8 es par\n",
      "9 es impar\n",
      "10 es par\n"
     ]
    }
   ],
   "source": [
    "for n in range(1,11):\n",
    "    if n%2==0:\n",
    "        print(n, 'es par')\n",
    "    else:\n",
    "        print(n, 'es impar')"
   ]
  },
  {
   "cell_type": "code",
   "execution_count": 18,
   "id": "d65e7b91",
   "metadata": {},
   "outputs": [],
   "source": [
    "def menorquecien(lista):\n",
    "    contador=0\n",
    "    for x in lista:\n",
    "        if x < 100:\n",
    "            contador += 1\n",
    "    return contador"
   ]
  },
  {
   "cell_type": "code",
   "execution_count": 20,
   "id": "59c4b067",
   "metadata": {},
   "outputs": [
    {
     "data": {
      "text/plain": [
       "4"
      ]
     },
     "execution_count": 20,
     "metadata": {},
     "output_type": "execute_result"
    }
   ],
   "source": [
    "lista1 = [1, 8, 101, 25, 45, 200]\n",
    "menorquecien(lista1)"
   ]
  },
  {
   "cell_type": "code",
   "execution_count": 21,
   "id": "fc89a7cf",
   "metadata": {},
   "outputs": [
    {
     "name": "stdout",
     "output_type": "stream",
     "text": [
      "126\n"
     ]
    }
   ],
   "source": [
    "precios = {\"boj\": 50, \"licuala\":7, \"sansevieria\": 3}\n",
    "cantidades = {\"boj\": 2, \"licuala\":2, \"sansevieria\": 4}\n",
    "totalcompra = 0\n",
    "for i in precios:\n",
    "    totalcompra = totalcompra + (precios[i] * cantidades[i])\n",
    "print (totalcompra)"
   ]
  },
  {
   "cell_type": "code",
   "execution_count": null,
   "id": "1e70409f",
   "metadata": {},
   "outputs": [],
   "source": []
  }
 ],
 "metadata": {
  "kernelspec": {
   "display_name": "Python 3 (ipykernel)",
   "language": "python",
   "name": "python3"
  },
  "language_info": {
   "codemirror_mode": {
    "name": "ipython",
    "version": 3
   },
   "file_extension": ".py",
   "mimetype": "text/x-python",
   "name": "python",
   "nbconvert_exporter": "python",
   "pygments_lexer": "ipython3",
   "version": "3.10.9"
  }
 },
 "nbformat": 4,
 "nbformat_minor": 5
}
