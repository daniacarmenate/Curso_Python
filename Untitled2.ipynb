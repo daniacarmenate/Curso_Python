{
 "cells": [
  {
   "cell_type": "code",
   "execution_count": 1,
   "id": "49842d44",
   "metadata": {},
   "outputs": [],
   "source": [
    "#MÓDULO:\n",
    "#Un módulo es un archivo de python cuyos objetos (funciones, clases, ...) pueden ser acceedidos desde otro archivo"
   ]
  },
  {
   "cell_type": "code",
   "execution_count": 2,
   "id": "9384cfb6",
   "metadata": {},
   "outputs": [],
   "source": [
    "import math"
   ]
  },
  {
   "cell_type": "code",
   "execution_count": 3,
   "id": "03236a6e",
   "metadata": {},
   "outputs": [
    {
     "data": {
      "text/plain": [
       "9.0"
      ]
     },
     "execution_count": 3,
     "metadata": {},
     "output_type": "execute_result"
    }
   ],
   "source": [
    "math.sqrt(81)"
   ]
  },
  {
   "cell_type": "code",
   "execution_count": 4,
   "id": "74fb4ae5",
   "metadata": {},
   "outputs": [],
   "source": [
    "from math import sqrt"
   ]
  },
  {
   "cell_type": "code",
   "execution_count": 5,
   "id": "461eaad8",
   "metadata": {},
   "outputs": [
    {
     "data": {
      "text/plain": [
       "4.0"
      ]
     },
     "execution_count": 5,
     "metadata": {},
     "output_type": "execute_result"
    }
   ],
   "source": [
    "sqrt(16)"
   ]
  },
  {
   "cell_type": "code",
   "execution_count": 7,
   "id": "76fa48cb",
   "metadata": {},
   "outputs": [],
   "source": [
    "from math import * "
   ]
  },
  {
   "cell_type": "code",
   "execution_count": 8,
   "id": "e14764a5",
   "metadata": {},
   "outputs": [],
   "source": [
    "#el problema es si hubieran 2 modulos con funciones con el mismo nombre "
   ]
  },
  {
   "cell_type": "code",
   "execution_count": 9,
   "id": "1cf3df2d",
   "metadata": {},
   "outputs": [
    {
     "data": {
      "text/plain": [
       "9.0"
      ]
     },
     "execution_count": 9,
     "metadata": {},
     "output_type": "execute_result"
    }
   ],
   "source": [
    "sqrt(81)"
   ]
  },
  {
   "cell_type": "code",
   "execution_count": null,
   "id": "5ca5fde8",
   "metadata": {},
   "outputs": [],
   "source": []
  },
  {
   "cell_type": "code",
   "execution_count": 10,
   "id": "1ba3273e",
   "metadata": {},
   "outputs": [],
   "source": [
    "#Numpy es una bilioteca para dar soporte para crear vectores y matrcies\n",
    "#Pandas es una biblioteca para la manipulalcion y análisis de datos. Ofrece estructuras de datos y operaciones para manipular tablas numérica sy series temporales\n",
    "#Matplotlib es una biblioteca para la generacion de graficos a partir de datos contenidos en listas y arrays.\n",
    "\n",
    "#Módulos:\n",
    "#math: funciones matemáticas\n",
    "#random: generador de números aleatorios\n",
    "#statsmodels: estadísticas descriptivas, graficar funciones. hacer regresiones"
   ]
  },
  {
   "cell_type": "code",
   "execution_count": 11,
   "id": "b3338cc5",
   "metadata": {},
   "outputs": [],
   "source": [
    "import numpy\n",
    "import pandas\n",
    "import matplotlib\n",
    "import math\n",
    "import random\n",
    "import statsmodels"
   ]
  },
  {
   "cell_type": "code",
   "execution_count": 13,
   "id": "e6751c33",
   "metadata": {},
   "outputs": [],
   "source": [
    "import pandas_datareader\n",
    "#instalado previamente"
   ]
  },
  {
   "cell_type": "code",
   "execution_count": 14,
   "id": "edbb8c88",
   "metadata": {},
   "outputs": [],
   "source": [
    "#Arrays con numpy\n",
    "import numpy as np"
   ]
  },
  {
   "cell_type": "code",
   "execution_count": 17,
   "id": "15ef8e6d",
   "metadata": {},
   "outputs": [],
   "source": [
    "array1= np.array([[0,1,2,3], [4,5,6,7]]) \n",
    "#las listas tienen que tener el ismo numero de elementos y del mismo tipo"
   ]
  },
  {
   "cell_type": "code",
   "execution_count": 18,
   "id": "16649dd5",
   "metadata": {},
   "outputs": [
    {
     "data": {
      "text/plain": [
       "array([[0, 1, 2, 3],\n",
       "       [4, 5, 6, 7]])"
      ]
     },
     "execution_count": 18,
     "metadata": {},
     "output_type": "execute_result"
    }
   ],
   "source": [
    "array1"
   ]
  },
  {
   "cell_type": "code",
   "execution_count": 19,
   "id": "cb0ffede",
   "metadata": {},
   "outputs": [
    {
     "data": {
      "text/plain": [
       "(2, 4)"
      ]
     },
     "execution_count": 19,
     "metadata": {},
     "output_type": "execute_result"
    }
   ],
   "source": [
    "array1.shape"
   ]
  },
  {
   "cell_type": "code",
   "execution_count": 20,
   "id": "f90f0441",
   "metadata": {},
   "outputs": [
    {
     "data": {
      "text/plain": [
       "6"
      ]
     },
     "execution_count": 20,
     "metadata": {},
     "output_type": "execute_result"
    }
   ],
   "source": [
    "array1[1,2]"
   ]
  },
  {
   "cell_type": "code",
   "execution_count": 22,
   "id": "bd670f10",
   "metadata": {},
   "outputs": [
    {
     "data": {
      "text/plain": [
       "array([[ 0,  1, 10,  3],\n",
       "       [ 4,  5,  6,  7]])"
      ]
     },
     "execution_count": 22,
     "metadata": {},
     "output_type": "execute_result"
    }
   ],
   "source": [
    "array1[0,2] = 10\n",
    "array1"
   ]
  },
  {
   "cell_type": "code",
   "execution_count": 24,
   "id": "a475128b",
   "metadata": {},
   "outputs": [
    {
     "data": {
      "text/plain": [
       "array([4, 5, 6, 7])"
      ]
     },
     "execution_count": 24,
     "metadata": {},
     "output_type": "execute_result"
    }
   ],
   "source": [
    "array1[1]"
   ]
  },
  {
   "cell_type": "code",
   "execution_count": 25,
   "id": "136a048a",
   "metadata": {},
   "outputs": [
    {
     "data": {
      "text/plain": [
       "array([10,  6])"
      ]
     },
     "execution_count": 25,
     "metadata": {},
     "output_type": "execute_result"
    }
   ],
   "source": [
    "array1[:,2]"
   ]
  },
  {
   "cell_type": "code",
   "execution_count": 26,
   "id": "1524e9d4",
   "metadata": {},
   "outputs": [
    {
     "name": "stdout",
     "output_type": "stream",
     "text": [
      "0.9406177620842479\n"
     ]
    }
   ],
   "source": [
    "probabilidad = random.random()\n",
    "print(probabilidad)"
   ]
  },
  {
   "cell_type": "code",
   "execution_count": 27,
   "id": "69280c54",
   "metadata": {},
   "outputs": [
    {
     "data": {
      "text/plain": [
       "3"
      ]
     },
     "execution_count": 27,
     "metadata": {},
     "output_type": "execute_result"
    }
   ],
   "source": [
    "dado = random.randint(1,6)\n",
    "dado"
   ]
  },
  {
   "cell_type": "code",
   "execution_count": 28,
   "id": "7a98f9db",
   "metadata": {},
   "outputs": [
    {
     "data": {
      "text/plain": [
       "array([[2, 5, 3, 2, 2, 4, 3],\n",
       "       [1, 3, 1, 1, 1, 1, 2],\n",
       "       [1, 2, 4, 3, 4, 4, 1],\n",
       "       [4, 5, 1, 5, 1, 4, 4]])"
      ]
     },
     "execution_count": 28,
     "metadata": {},
     "output_type": "execute_result"
    }
   ],
   "source": [
    "np.random.randint(1,6,(4,7))"
   ]
  },
  {
   "cell_type": "code",
   "execution_count": null,
   "id": "4c13f00b",
   "metadata": {},
   "outputs": [],
   "source": []
  }
 ],
 "metadata": {
  "kernelspec": {
   "display_name": "Python 3 (ipykernel)",
   "language": "python",
   "name": "python3"
  },
  "language_info": {
   "codemirror_mode": {
    "name": "ipython",
    "version": 3
   },
   "file_extension": ".py",
   "mimetype": "text/x-python",
   "name": "python",
   "nbconvert_exporter": "python",
   "pygments_lexer": "ipython3",
   "version": "3.10.9"
  }
 },
 "nbformat": 4,
 "nbformat_minor": 5
}
